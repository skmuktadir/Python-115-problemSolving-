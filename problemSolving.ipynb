{
 "cells": [
  {
   "cell_type": "markdown",
   "id": "53c4d1ff-b358-405c-ad40-9208aadd5d00",
   "metadata": {},
   "source": [
    "# 1. Variable Swap: <h5> Write a Python program to swap the values of two variables without using a temporary variable."
   ]
  },
  {
   "cell_type": "code",
   "execution_count": 1,
   "id": "f66ab637-2c38-47c9-a9a5-2b444962bdb0",
   "metadata": {},
   "outputs": [],
   "source": [
    "var1=3\n",
    "var2=4"
   ]
  },
  {
   "cell_type": "code",
   "execution_count": 2,
   "id": "1ed59759-000b-471e-8418-a57f08d50295",
   "metadata": {},
   "outputs": [
    {
     "name": "stdout",
     "output_type": "stream",
     "text": [
      "3 4\n"
     ]
    }
   ],
   "source": [
    "print(var1,var2)"
   ]
  },
  {
   "cell_type": "code",
   "execution_count": 3,
   "id": "0c6546f9-e998-4136-8df7-76033e12db08",
   "metadata": {},
   "outputs": [],
   "source": [
    "var1,var2=var2,var1"
   ]
  },
  {
   "cell_type": "code",
   "execution_count": 4,
   "id": "03c70723-ce12-4a4d-8c5d-00085f9de28c",
   "metadata": {},
   "outputs": [
    {
     "name": "stdout",
     "output_type": "stream",
     "text": [
      "4 3\n"
     ]
    }
   ],
   "source": [
    "print(var1,var2)"
   ]
  },
  {
   "cell_type": "markdown",
   "id": "28cab485-2f36-4c7e-8236-a57039a684c8",
   "metadata": {},
   "source": [
    "# 2. Even or Odd:<h5> Write a Python program that takes an integer as input and prints whether it is even or odd."
   ]
  },
  {
   "cell_type": "code",
   "execution_count": 5,
   "id": "119507e3-0581-4071-97c4-ea720757aa3d",
   "metadata": {},
   "outputs": [],
   "source": [
    "def check_Even_Odd(num):\n",
    "    if num%2==0:\n",
    "        print(num,'is Even')\n",
    "    else:\n",
    "        print(num,'is Odd')\n"
   ]
  },
  {
   "cell_type": "code",
   "execution_count": 6,
   "id": "d4937e42-848e-4ff3-a95a-d8d24291096b",
   "metadata": {},
   "outputs": [
    {
     "name": "stdin",
     "output_type": "stream",
     "text": [
      "Enter Your input: 9\n"
     ]
    },
    {
     "name": "stdout",
     "output_type": "stream",
     "text": [
      "9 is Odd\n"
     ]
    }
   ],
   "source": [
    "num=int(input('Enter Your input:'))\n",
    "check_Even_Odd(num)"
   ]
  },
  {
   "cell_type": "markdown",
   "id": "b70d83a2-6d76-4ccf-bf70-29df62aa617b",
   "metadata": {},
   "source": [
    "# 3. String Reverse:<h5> Write a Python function to reverse a given string and return the reversed string."
   ]
  },
  {
   "cell_type": "code",
   "execution_count": 7,
   "id": "abedb1f1-5a2f-4458-9c00-88b130459c11",
   "metadata": {},
   "outputs": [],
   "source": [
    "def string_Reverse(str):\n",
    "    x=len(str)\n",
    "    for i in range(x-1, -1, -1):\n",
    "       print (str[i],sep='', end='')\n"
   ]
  },
  {
   "cell_type": "code",
   "execution_count": 8,
   "id": "d4cf29a0-8bdc-491c-a935-97a2a98b9df3",
   "metadata": {},
   "outputs": [],
   "source": [
    "def string_Reverse_V2(str):\n",
    "    return str [::-1]"
   ]
  },
  {
   "cell_type": "code",
   "execution_count": 9,
   "id": "4d6b4780-4f87-48f8-a903-c2c2cf7aec04",
   "metadata": {},
   "outputs": [
    {
     "name": "stdout",
     "output_type": "stream",
     "text": [
      "olleH"
     ]
    },
    {
     "data": {
      "text/plain": [
       "'olleH'"
      ]
     },
     "execution_count": 9,
     "metadata": {},
     "output_type": "execute_result"
    }
   ],
   "source": [
    "str1='Hello'\n",
    "string_Reverse(str1) \n",
    "string_Reverse_V2(str1)"
   ]
  },
  {
   "cell_type": "markdown",
   "id": "362c7084-f074-4b2d-9463-7b5c850281ab",
   "metadata": {},
   "source": [
    "# 4. Type Conversion: <h5> Given a list of integers, write a Python program to convert each element of the list to a string."
   ]
  },
  {
   "cell_type": "code",
   "execution_count": 10,
   "id": "0f62e654-8fc4-4058-92a7-7728e356ef2a",
   "metadata": {},
   "outputs": [],
   "source": [
    "def type_Conversion(list):\n",
    "    for i in range (0,len(list),+1):\n",
    "        print(str(type(list[i])).split(\"'\")[1])\n",
    "        check=str(type(list[i]))\n",
    "        print(str(type(check)).split(\"'\")[1])"
   ]
  },
  {
   "cell_type": "code",
   "execution_count": 11,
   "id": "c856f80f-d777-4fb7-ac11-12d3a568cd93",
   "metadata": {},
   "outputs": [
    {
     "name": "stdout",
     "output_type": "stream",
     "text": [
      "int\n",
      "str\n",
      "int\n",
      "str\n",
      "int\n",
      "str\n",
      "int\n",
      "str\n",
      "int\n",
      "str\n"
     ]
    }
   ],
   "source": [
    "list=[1,2,3,4,5]\n",
    "type_Conversion(list)"
   ]
  },
  {
   "cell_type": "markdown",
   "id": "362fb374-2646-4883-9c99-f3367e866d67",
   "metadata": {},
   "source": [
    "# 5. Temperature Converter:<h5> Write a Python program that converts a temperature in Celsius to Fahrenheit. Take the Celsius temperature as input from the user."
   ]
  },
  {
   "cell_type": "code",
   "execution_count": 12,
   "id": "ef2d5856-f62e-4866-a15f-b96edd1ac9ac",
   "metadata": {},
   "outputs": [],
   "source": [
    "def temperature_Converter(tem):\n",
    "    x=(((tem/5)*9)+32)\n",
    "    print('Fahrenheit :',x)"
   ]
  },
  {
   "cell_type": "code",
   "execution_count": 13,
   "id": "00d546b6-9143-432d-98f0-e67bd2016997",
   "metadata": {},
   "outputs": [
    {
     "name": "stdin",
     "output_type": "stream",
     "text": [
      "Enter your Celsius:  34\n"
     ]
    },
    {
     "name": "stdout",
     "output_type": "stream",
     "text": [
      "Fahrenheit : 93.19999999999999\n"
     ]
    }
   ],
   "source": [
    "celcius=float(input(\"Enter your Celsius: \"))\n",
    "temperature_Converter(celcius)"
   ]
  },
  {
   "cell_type": "code",
   "execution_count": null,
   "id": "5d5f0f9b-b46f-4123-89a7-848ca5c105fd",
   "metadata": {},
   "outputs": [],
   "source": []
  },
  {
   "cell_type": "markdown",
   "id": "e7fd893c-cd16-47c5-9737-daba5bc370cb",
   "metadata": {},
   "source": [
    "# 6. Data Type Checker: <h5>  Write a Python function that takes a variable as input and returns the data type of the variable as a string (e.g., “int”, “float”, “str”, “list”, etc.)."
   ]
  },
  {
   "cell_type": "code",
   "execution_count": 14,
   "id": "623ee524-69a1-4630-9fd0-18f98ef4a454",
   "metadata": {},
   "outputs": [],
   "source": [
    "def data_Type_Checker(tp):\n",
    "    return str(type(tp)).split(\"'\")[1]\n"
   ]
  },
  {
   "cell_type": "code",
   "execution_count": 15,
   "id": "f0d203be-fcb2-48c1-a66d-c0f1da5001af",
   "metadata": {},
   "outputs": [
    {
     "name": "stdout",
     "output_type": "stream",
     "text": [
      "Data type of var1: int\n",
      "Data type of var2: float\n",
      "Data type of var3: str\n",
      "Data type of var4: list\n"
     ]
    }
   ],
   "source": [
    "var1 = 10\n",
    "var2 = 3.14\n",
    "var3 = \"Hello\"\n",
    "var4 = [1, 2, 3]\n",
    "\n",
    "print(\"Data type of var1:\", data_Type_Checker(var1))\n",
    "print(\"Data type of var2:\", data_Type_Checker(var2))\n",
    "print(\"Data type of var3:\", data_Type_Checker(var3))\n",
    "print(\"Data type of var4:\", data_Type_Checker(var4))"
   ]
  },
  {
   "cell_type": "markdown",
   "id": "f1c5cb4b-0ff3-4e7a-8fcc-cfac24113e4e",
   "metadata": {},
   "source": [
    "# 7. String Palindrome: <h5>Write a Python function to check if a given string is a palindrome or not.\n"
   ]
  },
  {
   "cell_type": "code",
   "execution_count": 16,
   "id": "419edb2a-e9b0-4910-9493-c5d16d13581e",
   "metadata": {},
   "outputs": [],
   "source": [
    "def palindrom(tp):\n",
    "    tp_len=len(tp);\n",
    "    p1=\" \"\n",
    "    for i in range(tp_len-1,-1,-1):\n",
    "        p1+=tp[i]\n",
    "    if (tp==p1):\n",
    "        print(\"It's palindrome\")\n",
    "    else:\n",
    "        print(\"Not palindrome\")"
   ]
  },
  {
   "cell_type": "code",
   "execution_count": 18,
   "id": "78ef7e83-2987-4e55-8ee5-9a137476be7c",
   "metadata": {},
   "outputs": [
    {
     "name": "stdout",
     "output_type": "stream",
     "text": [
      "Not palindrome\n"
     ]
    }
   ],
   "source": [
    "p1=\"121\"\n",
    "palindrom(p1)"
   ]
  },
  {
   "cell_type": "markdown",
   "id": "2ec97aeb-2ed4-411d-9dc4-bf3d71a96dd2",
   "metadata": {},
   "source": [
    "# 8. String Reversal with Slicing:<h5> Write a Python function to reverse a given string using slicing."
   ]
  },
  {
   "cell_type": "code",
   "execution_count": 19,
   "id": "f280bfc6-307c-4caa-bd4f-e2adf28a24f8",
   "metadata": {},
   "outputs": [],
   "source": [
    "def reverse_string(input_str):\n",
    "    return input_str[::-1]\n"
   ]
  },
  {
   "cell_type": "code",
   "execution_count": 20,
   "id": "c72dec49-c4ef-45c4-84f4-206097fb9c41",
   "metadata": {},
   "outputs": [
    {
     "name": "stdout",
     "output_type": "stream",
     "text": [
      "Original string: Hello, World!\n",
      "Reversed string: !dlroW ,olleH\n"
     ]
    }
   ],
   "source": [
    "input_string = \"Hello, World!\"\n",
    "reversed_string = reverse_string(input_string)\n",
    "print(\"Original string:\", input_string)\n",
    "print(\"Reversed string:\", reversed_string)\n"
   ]
  },
  {
   "cell_type": "markdown",
   "id": "a6d7da2c-2d2f-407f-a33d-c76886cee2e3",
   "metadata": {},
   "source": [
    "# 9. String Concatenation:<h5> Write a Python program that takes two strings as input and concatenates them into a single string without using the `+` operator."
   ]
  },
  {
   "cell_type": "code",
   "execution_count": 21,
   "id": "28b67a37-e242-44bf-96f7-447bf3391244",
   "metadata": {},
   "outputs": [],
   "source": [
    "def concatenation_string(input_str1,input_str2):\n",
    "    list1=[input_str1,input_str2]\n",
    "    #list1=[none,none]\n",
    "    #list1[0]=input_str1\n",
    "    #list1[1]=input_str2\n",
    "    #print list1\n",
    "    return list1"
   ]
  },
  {
   "cell_type": "code",
   "execution_count": 22,
   "id": "12e0eaa4-282e-4496-abf7-02e28b89c006",
   "metadata": {},
   "outputs": [
    {
     "name": "stdout",
     "output_type": "stream",
     "text": [
      "Original string: Hello, World!\n",
      "Reversed string: ['Hello', ' World!']\n"
     ]
    }
   ],
   "source": [
    "input_string1 = \"Hello\"\n",
    "input_string2 = \" World!\"\n",
    "concat_string = concatenation_string(input_string1,input_string2)\n",
    "print(\"Original string:\", input_string)\n",
    "print(\"Reversed string:\", concat_string)"
   ]
  },
  {
   "cell_type": "markdown",
   "id": "27aa4c82-a9d3-485b-ba6f-cc6c46168ba0",
   "metadata": {},
   "source": [
    "# 10.Typecasting Challenge: <h5> Given three variables: `a = ‘100’`, `b = 25`, and `c = ‘10.5’`, write a Python program to perform the following operations and print the results: – Convert `a` to an integer and add it to `b`. – Convert `c` to a float and subtract it from the result of the first operation. – Convert the final result to a string and concatenate it with the string ” is the answer.”"
   ]
  },
  {
   "cell_type": "code",
   "execution_count": 23,
   "id": "077eb4b1-b566-4a4e-9725-1217a6f63b94",
   "metadata": {},
   "outputs": [],
   "source": [
    "def calculate_result(a, b, c):\n",
    "    # Step 1: Convert a to an integer and add it to b\n",
    "    result_step1 = int(a) + b\n",
    "\n",
    "    # Step 2: Convert c to a float and subtract it from the result of the first operation\n",
    "    result_step2 = result_step1 - float(c)\n",
    "\n",
    "    # Step 3: Convert the final result to a string and concatenate it with the string \" is the answer.\"\n",
    "    final_result = str(result_step2) + \" is the answer.\"\n",
    "\n",
    "    return final_result"
   ]
  },
  {
   "cell_type": "code",
   "execution_count": 25,
   "id": "d82fa8d4-4f47-4e48-a291-3a8448d78302",
   "metadata": {},
   "outputs": [
    {
     "name": "stdout",
     "output_type": "stream",
     "text": [
      "Final Result: 114.5 is the answer.\n"
     ]
    }
   ],
   "source": [
    "a = '100'\n",
    "b = 25\n",
    "c = '10.5'\n",
    "result = calculate_result(a, b, c)\n",
    "print(\"Final Result:\", result)"
   ]
  },
  {
   "cell_type": "code",
   "execution_count": null,
   "id": "c0e26b45-a9e0-4af1-9a5a-aa18e34bc68a",
   "metadata": {},
   "outputs": [],
   "source": []
  },
  {
   "cell_type": "markdown",
   "id": "211e718b-4964-441d-8091-721d2cb23636",
   "metadata": {},
   "source": [
    "# Python Conditional Statements:"
   ]
  },
  {
   "cell_type": "markdown",
   "id": "f8f32f42-cfd5-4957-aa19-d76fc6ef1c5e",
   "metadata": {},
   "source": [
    "# 11. Positive, Negative, or Zero: <h5> Write a Python program that takes a number as input and prints whether it is positive, negative, or zero."
   ]
  },
  {
   "cell_type": "code",
   "execution_count": 26,
   "id": "5f2b4de3-1e90-45a6-8499-d36b3462936a",
   "metadata": {},
   "outputs": [],
   "source": [
    "def checkNumber(input_str1):\n",
    "    if input_str1>0:\n",
    "        print(\"Number is positive :\",input_str1)\n",
    "\n",
    "    elif input_str1<0:\n",
    "        print(\"Number is Negative :\",input_str1)\n",
    "\n",
    "    else:\n",
    "        print(\"It's Zero :\",input_str1)\n"
   ]
  },
  {
   "cell_type": "code",
   "execution_count": 29,
   "id": "2beb0680-59a5-4753-a252-d578821d503f",
   "metadata": {},
   "outputs": [
    {
     "name": "stdout",
     "output_type": "stream",
     "text": [
      "Number is Negative : -10\n"
     ]
    }
   ],
   "source": [
    "input_Number=-10\n",
    "checkNumber(input_Number)"
   ]
  },
  {
   "cell_type": "markdown",
   "id": "76088c94-8530-4617-9fb5-f35c9209fa15",
   "metadata": {},
   "source": [
    "# 12. Largest of Three Numbers: <h5> Write a Python program that takes three numbers as input and prints the largest among them."
   ]
  },
  {
   "cell_type": "code",
   "execution_count": 36,
   "id": "3275a734-ab25-447c-9dff-b491ee873e95",
   "metadata": {},
   "outputs": [],
   "source": [
    "def checkNumber(input_str1):\n",
    "    input_str1.sort()\n",
    "    return input_str1"
   ]
  },
  {
   "cell_type": "code",
   "execution_count": 41,
   "id": "d5253956-baae-4c41-be47-d2f796f68189",
   "metadata": {},
   "outputs": [
    {
     "name": "stdout",
     "output_type": "stream",
     "text": [
      "Largest Number is :  100\n"
     ]
    }
   ],
   "source": [
    "input_list=[-4,10,7,0,-100,100]\n",
    "shorting_Number=checkNumber(input_list)\n",
    "print(\"Largest Number is : \",shorting_Number[-1]) #Index -1 refers to the last element of the list."
   ]
  },
  {
   "cell_type": "markdown",
   "id": "e963d41e-3800-4ba5-ab9f-9faf21ab4f24",
   "metadata": {},
   "source": [
    "# 13. Leap Year Checker:  <h5>Write a Python program that takes a year as input and determines if it is a leap year or not."
   ]
  },
  {
   "cell_type": "code",
   "execution_count": 59,
   "id": "f97f4454-3080-4bcb-a3d6-93a4906e7a8e",
   "metadata": {},
   "outputs": [],
   "source": [
    "def leapYear_Checker(year):\n",
    "    if year % 400 == 0:\n",
    "        return \"Leap year\"\n",
    "    elif year % 4 == 0 and year % 100 != 0:\n",
    "        return \"Leap year\"\n",
    "    else:\n",
    "        return \"Not Leap Year\"\n",
    "\n"
   ]
  },
  {
   "cell_type": "code",
   "execution_count": 68,
   "id": "dc957db7-e1e2-448e-a33d-16d34f62c307",
   "metadata": {},
   "outputs": [
    {
     "name": "stdout",
     "output_type": "stream",
     "text": [
      "This year is : Leap year\n"
     ]
    }
   ],
   "source": [
    "year=2020\n",
    "year_check=leapYear_Checker(year)\n",
    "print(\"This year is :\",year_check)"
   ]
  },
  {
   "cell_type": "markdown",
   "id": "1d858f01-8c87-44f2-86aa-1d621371151b",
   "metadata": {},
   "source": [
    "# 14. Grades Classification: <h5> Write a Python program that takes a student’s percentage as input and prints their corresponding grade according to the following criteria: – 90% or above: A+ – 80-89%: A – 70-79%: B – 60-69%: C – Below 60%: Fail"
   ]
  },
  {
   "cell_type": "code",
   "execution_count": 70,
   "id": "bc631495-e219-4afb-98bc-7206873d6fbd",
   "metadata": {},
   "outputs": [],
   "source": [
    "def calculate_grade(percentage):\n",
    "    if percentage >= 90:\n",
    "        return \"A+\"\n",
    "    elif percentage >= 80:\n",
    "        return \"A\"\n",
    "    elif percentage >= 70:\n",
    "        return \"B\"\n",
    "    elif percentage >= 60:\n",
    "        return \"C\"\n",
    "    else:\n",
    "        return \"Fail\""
   ]
  },
  {
   "cell_type": "code",
   "execution_count": 71,
   "id": "d2f3ccf3-1ddb-4eb3-bc79-93ea5329e420",
   "metadata": {},
   "outputs": [
    {
     "name": "stdin",
     "output_type": "stream",
     "text": [
      "Enter student's percentage:  79.88\n"
     ]
    },
    {
     "name": "stdout",
     "output_type": "stream",
     "text": [
      "Grade: B\n"
     ]
    }
   ],
   "source": [
    "percentage = float(input(\"Enter student's percentage: \"))\n",
    "grade = calculate_grade(percentage)\n",
    "print(\"Grade:\", grade)"
   ]
  },
  {
   "cell_type": "markdown",
   "id": "64da34e7-8525-41b3-acd5-7ad8d72912d6",
   "metadata": {},
   "source": [
    "# 15. Vowel or Consonant: <h5>Write a Python program that takes a single character as input and determines whether it is a vowel or a consonant. Note: In Python, the in operator is used to check if a value exists within an iterable (such as a string, list, or tuple)."
   ]
  },
  {
   "cell_type": "code",
   "execution_count": 75,
   "id": "591aedbb-bbec-4562-b42f-595b288d607f",
   "metadata": {},
   "outputs": [],
   "source": [
    "def check_vowel_or_consonant(character):\n",
    "    vowels = 'aeiouAEIOU'\n",
    "\n",
    "    if character in vowels: #In Python, the in operator is used to check if a value exists within an iterable (such as a string, list, or tuple).\n",
    "        return \"Vowel\"\n",
    "    else:\n",
    "        return \"Consonant\""
   ]
  },
  {
   "cell_type": "code",
   "execution_count": 76,
   "id": "c1291f5b-a801-4c7e-9c8c-f4352b5a667a",
   "metadata": {},
   "outputs": [
    {
     "name": "stdin",
     "output_type": "stream",
     "text": [
      "Enter a single character:  I\n"
     ]
    },
    {
     "name": "stdout",
     "output_type": "stream",
     "text": [
      "The character  I is a  Vowel\n"
     ]
    }
   ],
   "source": [
    "char = input(\"Enter a single character: \")\n",
    "result = check_vowel_or_consonant(char)\n",
    "print(\"The character \",char,\"is a \",result)"
   ]
  },
  {
   "cell_type": "markdown",
   "id": "9de6e295-4a9e-4106-82c0-15a2957badc6",
   "metadata": {},
   "source": [
    "# 16. Time Classification:<h5> Write a Python program that takes the time in hours (24-hour format) as input and prints “Good Morning”, “Good Afternoon”, “Good Evening”, or “Good Night” based on the time."
   ]
  },
  {
   "cell_type": "code",
   "execution_count": null,
   "id": "a65fe523-1653-4783-aaa0-bacb1056df66",
   "metadata": {},
   "outputs": [],
   "source": [
    "def time_classification(hour):\n",
    "    if 0 <= hour < 12:\n",
    "        return \"Good Morning\"\n",
    "    elif 12 <= hour < 18:\n",
    "        return \"Good Afternoon\"\n",
    "    elif 18 <= hour < 22:\n",
    "        return \"Good Evening\"\n",
    "    else:\n",
    "        return \"Good Night\"\n"
   ]
  },
  {
   "cell_type": "code",
   "execution_count": null,
   "id": "7056e1f5-e896-4b27-b66f-d32935b5df1d",
   "metadata": {},
   "outputs": [],
   "source": [
    "hour = int(input(\"Enter the time in hours (24-hour format): \"))\n",
    "print(time_classification(hour))"
   ]
  },
  {
   "cell_type": "markdown",
   "id": "92d720cf-0cef-40fa-b8d7-9be03724fd0a",
   "metadata": {},
   "source": [
    "#  17. Triangle Type Checker: <h5>Write a Python program that takes three sides of a triangle as input and determines whether it forms an equilateral, isosceles, or scalene triangle.\n"
   ]
  },
  {
   "cell_type": "code",
   "execution_count": null,
   "id": "0e58bba3-c62f-43ec-ae80-54f99d5b61fa",
   "metadata": {},
   "outputs": [],
   "source": [
    "def triangle_type_checker(a, b, c):\n",
    "    if a == b == c:\n",
    "        return \"Equilateral Triangle\"\n",
    "    elif a == b or b == c or a == c:\n",
    "        return \"Isosceles Triangle\"\n",
    "    else:\n",
    "        return \"Scalene Triangle\""
   ]
  },
  {
   "cell_type": "code",
   "execution_count": null,
   "id": "8c959a68-eea3-4630-be7f-5e47f183a857",
   "metadata": {},
   "outputs": [],
   "source": [
    "a = float(input(\"Enter the length of side a: \"))\n",
    "b = float(input(\"Enter the length of side b: \"))\n",
    "c = float(input(\"Enter the length of side c: \"))\n",
    "print(triangle_type_checker(a, b, c))"
   ]
  },
  {
   "cell_type": "markdown",
   "id": "2ec14272-8098-49fe-b359-94ecdec14e84",
   "metadata": {},
   "source": [
    "# 18. Quadratic Equation Solver: <h5>Write a Python program that takes the coefficients (a, b, c) of a quadratic equation as input and calculates and prints the real roots (if they exist) or a message indicating the complex roots.\n"
   ]
  },
  {
   "cell_type": "code",
   "execution_count": null,
   "id": "b4e82aa7-50c1-4579-9eed-d2bbcc86bc09",
   "metadata": {},
   "outputs": [],
   "source": [
    "import cmath\n",
    "\n",
    "def quadratic_solver(a, b, c):\n",
    "    discriminant = (b**2) - (4*a*c)\n",
    "    if discriminant > 0:\n",
    "        root1 = (-b + discriminant**0.5) / (2*a)\n",
    "        root2 = (-b - discriminant**0.5) / (2*a)\n",
    "        return \"Real Roots:\", root1, root2\n",
    "    elif discriminant == 0:\n",
    "        root = -b / (2*a)\n",
    "        return \"Real and Identical Roots:\", root\n",
    "    else:\n",
    "        root1 = (-b + cmath.sqrt(discriminant)) / (2*a)\n",
    "        root2 = (-b - cmath.sqrt(discriminant)) / (2*a)\n",
    "        return \"Complex Roots:\", root1, root2\n"
   ]
  },
  {
   "cell_type": "code",
   "execution_count": null,
   "id": "afe8205b-85bd-448c-ae80-a04431600f82",
   "metadata": {},
   "outputs": [],
   "source": [
    "a = float(input(\"Enter coefficient a: \"))\n",
    "b = float(input(\"Enter coefficient b: \"))\n",
    "c = float(input(\"Enter coefficient c: \"))\n",
    "print(quadratic_solver(a, b, c))"
   ]
  },
  {
   "cell_type": "markdown",
   "id": "ed9ea520-fbc8-4da4-9a9f-838866dcac75",
   "metadata": {},
   "source": [
    "# 19. Number Ranges:<h5> Write a Python program that takes an integer as input and prints whether the number falls within the ranges: 0-50, 51-100, 101-150, or above 150.\n"
   ]
  },
  {
   "cell_type": "code",
   "execution_count": null,
   "id": "97a3bfee-3e99-47a3-89d1-3451660fdcf5",
   "metadata": {},
   "outputs": [],
   "source": [
    "def number_ranges(num):\n",
    "    if 0 <= num <= 50:\n",
    "        return \"0-50\"\n",
    "    elif 51 <= num <= 100:\n",
    "        return \"51-100\"\n",
    "    elif 101 <= num <= 150:\n",
    "        return \"101-150\"\n",
    "    else:\n",
    "        return \"Above 150\"\n"
   ]
  },
  {
   "cell_type": "code",
   "execution_count": null,
   "id": "5a2611ec-6228-4726-9e40-7686d6511355",
   "metadata": {},
   "outputs": [],
   "source": [
    "# Test the function\n",
    "num = int(input(\"Enter an integer: \"))\n",
    "print(number_ranges(num))"
   ]
  },
  {
   "cell_type": "markdown",
   "id": "25ea5fe4-2541-454e-a264-cfd9171d41d7",
   "metadata": {},
   "source": [
    "# 111. Factorial Calculation:<h5> Write a recursive Python function called `factorial` that takes a non-negative integer as input and returns its factorial."
   ]
  },
  {
   "cell_type": "code",
   "execution_count": 95,
   "id": "d9c5b156-abc1-49cc-b72d-83911892603b",
   "metadata": {},
   "outputs": [],
   "source": [
    "def factorial(num):\n",
    "    result=1\n",
    "    if num==0:\n",
    "        return result\n",
    "\n",
    "    else:\n",
    "        result=result*num\n",
    "        num=num-1\n",
    "        return factorial(num)*result\n",
    "        print(result)"
   ]
  },
  {
   "cell_type": "code",
   "execution_count": 97,
   "id": "a0cac34b-ccf8-411a-9aae-6df1861b9108",
   "metadata": {},
   "outputs": [
    {
     "name": "stdout",
     "output_type": "stream",
     "text": [
      "1\n"
     ]
    }
   ],
   "source": [
    "num=0\n",
    "result=factorial(num)\n",
    "print(result)"
   ]
  },
  {
   "cell_type": "markdown",
   "id": "3172240e-72bc-4e66-8c45-0ed8fab98ac6",
   "metadata": {},
   "source": [
    "# 112. Fibonacci Series:<h5> Write a recursive Python function called `Fibonacci` that takes an integer N as input and returns the Nth number in the Fibonacci series. The Fibonacci series is defined as follows: F(0) = 0, F(1) = 1, and F(n) = F(n-1) + F(n-2) for n > 1."
   ]
  },
  {
   "cell_type": "code",
   "execution_count": 1,
   "id": "eb460dad-f636-499e-a8bc-097b1ac805a5",
   "metadata": {},
   "outputs": [],
   "source": [
    "def fibonacci(n):\n",
    "    if n == 0:\n",
    "        return 0\n",
    "    elif n == 1:\n",
    "        return 1\n",
    "    # Recursive case\n",
    "    else:\n",
    "        return fibonacci(n - 1) + fibonacci(n - 2)"
   ]
  },
  {
   "cell_type": "code",
   "execution_count": 2,
   "id": "c0115890-e01b-4085-8887-090b7ed5442d",
   "metadata": {},
   "outputs": [
    {
     "name": "stdin",
     "output_type": "stream",
     "text": [
      "Enter the value of N:  2\n"
     ]
    },
    {
     "name": "stdout",
     "output_type": "stream",
     "text": [
      "The 2 th Fibonacci number is: 1\n"
     ]
    }
   ],
   "source": [
    "N = int(input(\"Enter the value of N: \"))\n",
    "result = fibonacci(N)\n",
    "print(\"The\", N, \"th Fibonacci number is:\", result)"
   ]
  },
  {
   "cell_type": "markdown",
   "id": "16002f5a-505e-43b7-b4f8-f4e88b0f52d0",
   "metadata": {},
   "source": [
    "# 113. The sum of Digits:<h5> Write a recursive Python function called `sum_of_digits` that takes an integer as input and returns the sum of its digits."
   ]
  },
  {
   "cell_type": "code",
   "execution_count": 1,
   "id": "959e4b3f-20ce-4769-876a-25cca0df6a7d",
   "metadata": {},
   "outputs": [],
   "source": [
    "def sum_of_list(lst):\n",
    "    # Base case: if the list is empty\n",
    "    if not lst:\n",
    "        return 0\n",
    "    # Recursive case: sum the first element and call the function with the rest of the list\n",
    "    else:\n",
    "        return lst[0] + sum_of_list(lst[1:])# 1 st element is remove,(2nd element index will be [0]) So, it effectively removes the first element from the list.\n"
   ]
  },
  {
   "cell_type": "code",
   "execution_count": 3,
   "id": "b89cf19a-7e20-4d65-b160-2182c3a63864",
   "metadata": {},
   "outputs": [
    {
     "name": "stdout",
     "output_type": "stream",
     "text": [
      "Recursive Sum from list :  45\n"
     ]
    }
   ],
   "source": [
    "num_list=[1,2,3,4,5,6,7,8,9]\n",
    "result=sum(num_list)\n",
    "print(\"Recursive Sum from list : \",result)"
   ]
  },
  {
   "cell_type": "markdown",
   "id": "3f0bc4cd-7881-49b4-8e3a-bfc290b4a459",
   "metadata": {},
   "source": [
    "# 114. Binary Search:<h5> Write a recursive Python function called `binary_search` that takes a sorted list and a target value as input and returns the index of the target value in the list using binary search. If the target value is not in the list, return -1."
   ]
  },
  {
   "cell_type": "code",
   "execution_count": 4,
   "id": "1d256dc1-6a1c-41ca-a731-859c61d5a9f4",
   "metadata": {},
   "outputs": [],
   "source": [
    "def binary_search(arr, target, low, high):\n",
    "    # Base case: if the low index exceeds the high index, the target is not found\n",
    "    if low > high:\n",
    "        return -1\n",
    "    \n",
    "    # Calculate the middle index\n",
    "    mid = (low + high) // 2\n",
    "    \n",
    "    # Check if the middle element is the target\n",
    "    if arr[mid] == target:\n",
    "        return mid\n",
    "    \n",
    "    # If the target is less than the middle element, search the left half\n",
    "    elif target < arr[mid]:\n",
    "        return binary_search(arr, target, low, mid - 1)\n",
    "    \n",
    "    # If the target is greater than the middle element, search the right half\n",
    "    else:\n",
    "        return binary_search(arr, target, mid + 1, high)\n"
   ]
  },
  {
   "cell_type": "code",
   "execution_count": 11,
   "id": "bf4249ea-a4c3-496e-b521-490e2c4dfc4a",
   "metadata": {},
   "outputs": [
    {
     "name": "stdout",
     "output_type": "stream",
     "text": [
      "Target 5 found at index 4.\n"
     ]
    }
   ],
   "source": [
    "arr = [1, 2, 3, 4, 5, 6, 7, 8, 9, 10]\n",
    "arr=sorted(arr)\n",
    "target = 5\n",
    "result = binary_search(arr, target, 0, len(arr) - 1)\n",
    "if result != -1:\n",
    "    print(f\"Target {target} found at index {result}.\")\n",
    "else:\n",
    "    print(f\"Target {target} not found in the list.\")"
   ]
  },
  {
   "cell_type": "markdown",
   "id": "bf489de4-f1b0-40e0-8e7f-5dcfe1324a48",
   "metadata": {},
   "source": [
    "# 115. Power Calculation:<h5> Write a recursive Python function called `power` that takes two positive integers, base and exponent, as input and returns the value of base raised to the exponent.We have explored a variety of programming problems in Python covering different topics such as variables, strings, typecasting, data types, loops, lists, dictionaries, and recursion. These problems are designed to challenge your understanding of Python concepts and provide opportunities to practice problem-solving and coding skills. By working through these problems, you can gain a deeper understanding of Python syntax, data structures, and control flow. Additionally, solving problems involving nested structures, such as nested loops, nested lists, and nested functions, can improve your ability to work with complex data arrangements."
   ]
  },
  {
   "cell_type": "code",
   "execution_count": 1,
   "id": "0e708f0a-4510-407e-ae43-112bf2d41431",
   "metadata": {},
   "outputs": [],
   "source": [
    "def power(base, exponent):\n",
    "    # Base case: if the exponent is 0, return 1\n",
    "    if exponent == 0:\n",
    "        return 1\n",
    "    # Recursive case: compute power recursively\n",
    "    else:\n",
    "        return base * power(base, exponent - 1)\n"
   ]
  },
  {
   "cell_type": "code",
   "execution_count": 3,
   "id": "5c3a6956-947f-4e93-a4e1-22f2f5802f37",
   "metadata": {},
   "outputs": [
    {
     "name": "stdin",
     "output_type": "stream",
     "text": [
      "Enter the base:  5\n",
      "Enter the exponent:  2\n"
     ]
    },
    {
     "name": "stdout",
     "output_type": "stream",
     "text": [
      "5 raised to the power of 2 is: 25\n"
     ]
    }
   ],
   "source": [
    "base = int(input(\"Enter the base: \"))\n",
    "exponent = int(input(\"Enter the exponent: \"))\n",
    "result = power(base, exponent)\n",
    "print(f\"{base} raised to the power of {exponent} is:\", result)"
   ]
  },
  {
   "cell_type": "code",
   "execution_count": null,
   "id": "6acf63b7-ab62-4eaf-bc4f-c45bd5ec9f74",
   "metadata": {},
   "outputs": [],
   "source": []
  }
 ],
 "metadata": {
  "kernelspec": {
   "display_name": "Python 3 (ipykernel)",
   "language": "python",
   "name": "python3"
  },
  "language_info": {
   "codemirror_mode": {
    "name": "ipython",
    "version": 3
   },
   "file_extension": ".py",
   "mimetype": "text/x-python",
   "name": "python",
   "nbconvert_exporter": "python",
   "pygments_lexer": "ipython3",
   "version": "3.11.7"
  }
 },
 "nbformat": 4,
 "nbformat_minor": 5
}
